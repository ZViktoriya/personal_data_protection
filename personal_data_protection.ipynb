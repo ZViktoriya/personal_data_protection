{
 "cells": [
  {
   "cell_type": "markdown",
   "metadata": {
    "toc": true
   },
   "source": [
    "<h1>Содержание<span class=\"tocSkip\"></span></h1>\n",
    "<div class=\"toc\"><ul class=\"toc-item\"><li><span><a href=\"#Загрузим-и-изучим-данные.\" data-toc-modified-id=\"Загрузим-и-изучим-данные.-1\"><span class=\"toc-item-num\">1&nbsp;&nbsp;</span>Загрузим и изучим данные.</a></span></li><li><span><a href=\"#Умножение-матриц\" data-toc-modified-id=\"Умножение-матриц-2\"><span class=\"toc-item-num\">2&nbsp;&nbsp;</span>Умножение матриц</a></span></li><li><span><a href=\"#Алгоритм-преобразования\" data-toc-modified-id=\"Алгоритм-преобразования-3\"><span class=\"toc-item-num\">3&nbsp;&nbsp;</span>Алгоритм преобразования</a></span></li><li><span><a href=\"#Проверка-алгоритма\" data-toc-modified-id=\"Проверка-алгоритма-4\"><span class=\"toc-item-num\">4&nbsp;&nbsp;</span>Проверка алгоритма</a></span></li><li><span><a href=\"#Чек-лист-проверки\" data-toc-modified-id=\"Чек-лист-проверки-5\"><span class=\"toc-item-num\">5&nbsp;&nbsp;</span>Чек-лист проверки</a></span></li></ul></div>"
   ]
  },
  {
   "cell_type": "markdown",
   "metadata": {},
   "source": [
    "# **<p style=\"text-align: center;\">Защита персональных данных клиентов.</p>**"
   ]
  },
  {
   "cell_type": "markdown",
   "metadata": {},
   "source": [
    "<img src=\"https://csp86.ru/wp-content/uploads/2019/11/87faab5218f8a2a894d4d3bd01430eec-300x274.png\" alt=\"Zoloto\" width=\"30%\" height=\"30%\">"
   ]
  },
  {
   "cell_type": "markdown",
   "metadata": {},
   "source": [
    "**Описание данных:**\n",
    "\n",
    "***Признаки:*** пол, возраст и зарплата застрахованного, количество членов его семьи.\n",
    "\n",
    "***Целевой признак:*** количество страховых выплат клиенту за последние 5 лет."
   ]
  },
  {
   "cell_type": "code",
   "execution_count": 1,
   "metadata": {},
   "outputs": [],
   "source": [
    "import pandas as pd\n",
    "import numpy as np\n",
    "import matplotlib.pyplot as plt\n",
    "import seaborn as sns\n",
    "\n",
    "from sklearn.model_selection import train_test_split\n",
    "from sklearn.linear_model import LinearRegression\n",
    "from sklearn.metrics import r2_score"
   ]
  },
  {
   "cell_type": "markdown",
   "metadata": {},
   "source": [
    "## Загрузим и изучим данные."
   ]
  },
  {
   "cell_type": "code",
   "execution_count": 2,
   "metadata": {},
   "outputs": [],
   "source": [
    "insurance_df = pd.read_csv('/datasets/insurance.csv')"
   ]
  },
  {
   "cell_type": "code",
   "execution_count": 3,
   "metadata": {},
   "outputs": [
    {
     "data": {
      "text/html": [
       "<div>\n",
       "<style scoped>\n",
       "    .dataframe tbody tr th:only-of-type {\n",
       "        vertical-align: middle;\n",
       "    }\n",
       "\n",
       "    .dataframe tbody tr th {\n",
       "        vertical-align: top;\n",
       "    }\n",
       "\n",
       "    .dataframe thead th {\n",
       "        text-align: right;\n",
       "    }\n",
       "</style>\n",
       "<table border=\"1\" class=\"dataframe\">\n",
       "  <thead>\n",
       "    <tr style=\"text-align: right;\">\n",
       "      <th></th>\n",
       "      <th>Пол</th>\n",
       "      <th>Возраст</th>\n",
       "      <th>Зарплата</th>\n",
       "      <th>Члены семьи</th>\n",
       "      <th>Страховые выплаты</th>\n",
       "    </tr>\n",
       "  </thead>\n",
       "  <tbody>\n",
       "    <tr>\n",
       "      <th>0</th>\n",
       "      <td>1</td>\n",
       "      <td>41.0</td>\n",
       "      <td>49600.0</td>\n",
       "      <td>1</td>\n",
       "      <td>0</td>\n",
       "    </tr>\n",
       "    <tr>\n",
       "      <th>1</th>\n",
       "      <td>0</td>\n",
       "      <td>46.0</td>\n",
       "      <td>38000.0</td>\n",
       "      <td>1</td>\n",
       "      <td>1</td>\n",
       "    </tr>\n",
       "    <tr>\n",
       "      <th>2</th>\n",
       "      <td>0</td>\n",
       "      <td>29.0</td>\n",
       "      <td>21000.0</td>\n",
       "      <td>0</td>\n",
       "      <td>0</td>\n",
       "    </tr>\n",
       "    <tr>\n",
       "      <th>3</th>\n",
       "      <td>0</td>\n",
       "      <td>21.0</td>\n",
       "      <td>41700.0</td>\n",
       "      <td>2</td>\n",
       "      <td>0</td>\n",
       "    </tr>\n",
       "    <tr>\n",
       "      <th>4</th>\n",
       "      <td>1</td>\n",
       "      <td>28.0</td>\n",
       "      <td>26100.0</td>\n",
       "      <td>0</td>\n",
       "      <td>0</td>\n",
       "    </tr>\n",
       "  </tbody>\n",
       "</table>\n",
       "</div>"
      ],
      "text/plain": [
       "   Пол  Возраст  Зарплата  Члены семьи  Страховые выплаты\n",
       "0    1     41.0   49600.0            1                  0\n",
       "1    0     46.0   38000.0            1                  1\n",
       "2    0     29.0   21000.0            0                  0\n",
       "3    0     21.0   41700.0            2                  0\n",
       "4    1     28.0   26100.0            0                  0"
      ]
     },
     "execution_count": 3,
     "metadata": {},
     "output_type": "execute_result"
    }
   ],
   "source": [
    "insurance_df.head()"
   ]
  },
  {
   "cell_type": "code",
   "execution_count": 4,
   "metadata": {},
   "outputs": [
    {
     "name": "stdout",
     "output_type": "stream",
     "text": [
      "<class 'pandas.core.frame.DataFrame'>\n",
      "RangeIndex: 5000 entries, 0 to 4999\n",
      "Data columns (total 5 columns):\n",
      " #   Column             Non-Null Count  Dtype  \n",
      "---  ------             --------------  -----  \n",
      " 0   Пол                5000 non-null   int64  \n",
      " 1   Возраст            5000 non-null   float64\n",
      " 2   Зарплата           5000 non-null   float64\n",
      " 3   Члены семьи        5000 non-null   int64  \n",
      " 4   Страховые выплаты  5000 non-null   int64  \n",
      "dtypes: float64(2), int64(3)\n",
      "memory usage: 195.4 KB\n"
     ]
    }
   ],
   "source": [
    "insurance_df.info()"
   ]
  },
  {
   "cell_type": "code",
   "execution_count": 7,
   "metadata": {},
   "outputs": [
    {
     "data": {
      "text/html": [
       "<div>\n",
       "<style scoped>\n",
       "    .dataframe tbody tr th:only-of-type {\n",
       "        vertical-align: middle;\n",
       "    }\n",
       "\n",
       "    .dataframe tbody tr th {\n",
       "        vertical-align: top;\n",
       "    }\n",
       "\n",
       "    .dataframe thead th {\n",
       "        text-align: right;\n",
       "    }\n",
       "</style>\n",
       "<table border=\"1\" class=\"dataframe\">\n",
       "  <thead>\n",
       "    <tr style=\"text-align: right;\">\n",
       "      <th></th>\n",
       "      <th>Пол</th>\n",
       "      <th>Возраст</th>\n",
       "      <th>Зарплата</th>\n",
       "      <th>Члены семьи</th>\n",
       "      <th>Страховые выплаты</th>\n",
       "    </tr>\n",
       "  </thead>\n",
       "  <tbody>\n",
       "    <tr>\n",
       "      <th>count</th>\n",
       "      <td>5000.000000</td>\n",
       "      <td>5000.000000</td>\n",
       "      <td>5000.000000</td>\n",
       "      <td>5000.000000</td>\n",
       "      <td>5000.000000</td>\n",
       "    </tr>\n",
       "    <tr>\n",
       "      <th>mean</th>\n",
       "      <td>0.499000</td>\n",
       "      <td>30.952800</td>\n",
       "      <td>39916.360000</td>\n",
       "      <td>1.194200</td>\n",
       "      <td>0.148000</td>\n",
       "    </tr>\n",
       "    <tr>\n",
       "      <th>std</th>\n",
       "      <td>0.500049</td>\n",
       "      <td>8.440807</td>\n",
       "      <td>9900.083569</td>\n",
       "      <td>1.091387</td>\n",
       "      <td>0.463183</td>\n",
       "    </tr>\n",
       "    <tr>\n",
       "      <th>min</th>\n",
       "      <td>0.000000</td>\n",
       "      <td>18.000000</td>\n",
       "      <td>5300.000000</td>\n",
       "      <td>0.000000</td>\n",
       "      <td>0.000000</td>\n",
       "    </tr>\n",
       "    <tr>\n",
       "      <th>25%</th>\n",
       "      <td>0.000000</td>\n",
       "      <td>24.000000</td>\n",
       "      <td>33300.000000</td>\n",
       "      <td>0.000000</td>\n",
       "      <td>0.000000</td>\n",
       "    </tr>\n",
       "    <tr>\n",
       "      <th>50%</th>\n",
       "      <td>0.000000</td>\n",
       "      <td>30.000000</td>\n",
       "      <td>40200.000000</td>\n",
       "      <td>1.000000</td>\n",
       "      <td>0.000000</td>\n",
       "    </tr>\n",
       "    <tr>\n",
       "      <th>75%</th>\n",
       "      <td>1.000000</td>\n",
       "      <td>37.000000</td>\n",
       "      <td>46600.000000</td>\n",
       "      <td>2.000000</td>\n",
       "      <td>0.000000</td>\n",
       "    </tr>\n",
       "    <tr>\n",
       "      <th>max</th>\n",
       "      <td>1.000000</td>\n",
       "      <td>65.000000</td>\n",
       "      <td>79000.000000</td>\n",
       "      <td>6.000000</td>\n",
       "      <td>5.000000</td>\n",
       "    </tr>\n",
       "  </tbody>\n",
       "</table>\n",
       "</div>"
      ],
      "text/plain": [
       "               Пол      Возраст      Зарплата  Члены семьи  Страховые выплаты\n",
       "count  5000.000000  5000.000000   5000.000000  5000.000000        5000.000000\n",
       "mean      0.499000    30.952800  39916.360000     1.194200           0.148000\n",
       "std       0.500049     8.440807   9900.083569     1.091387           0.463183\n",
       "min       0.000000    18.000000   5300.000000     0.000000           0.000000\n",
       "25%       0.000000    24.000000  33300.000000     0.000000           0.000000\n",
       "50%       0.000000    30.000000  40200.000000     1.000000           0.000000\n",
       "75%       1.000000    37.000000  46600.000000     2.000000           0.000000\n",
       "max       1.000000    65.000000  79000.000000     6.000000           5.000000"
      ]
     },
     "execution_count": 7,
     "metadata": {},
     "output_type": "execute_result"
    }
   ],
   "source": [
    "insurance_df.describe()"
   ]
  },
  {
   "cell_type": "code",
   "execution_count": 8,
   "metadata": {},
   "outputs": [
    {
     "data": {
      "image/png": "[encoded data removed]",
      "text/plain": [
       "<Figure size 1224x576 with 6 Axes>"
      ]
     },
     "metadata": {
      "needs_background": "light"
     },
     "output_type": "display_data"
    }
   ],
   "source": [
    "insurance_df.hist(figsize=(17, 8), bins=80)\n",
    "plt.show()"
   ]
  },
  {
   "cell_type": "markdown",
   "metadata": {},
   "source": [
    "## Умножение матриц"
   ]
  },
  {
   "cell_type": "markdown",
   "metadata": {},
   "source": [
    "Обозначения:\n",
    "\n",
    "- $X$ — матрица признаков (нулевой столбец состоит из единиц)\n",
    "\n",
    "- $y$ — вектор целевого признака\n",
    "\n",
    "- $P$ — матрица, на которую умножаются признаки\n",
    "\n",
    "- $w$ — вектор весов линейной регрессии (нулевой элемент равен сдвигу)"
   ]
  },
  {
   "cell_type": "markdown",
   "metadata": {},
   "source": [
    "Предсказания:\n",
    "\n",
    "$$\n",
    "a = Xw\n",
    "$$\n",
    "\n",
    "Задача обучения:\n",
    "\n",
    "$$\n",
    "w = \\arg\\min_w MSE(Xw, y)\n",
    "$$\n",
    "\n",
    "Формула обучения:\n",
    "\n",
    "$$\n",
    "w = (X^T X)^{-1} X^T y\n",
    "$$"
   ]
  },
  {
   "cell_type": "markdown",
   "metadata": {},
   "source": [
    "**Ответ:** Качество линейной регрессии не изменится при умножении признаков на обратимую матрицу. \n",
    "\n",
    "**Обоснование:** Это связано с тем, что умножение признаков на обратимую матрицу не меняет их линейную зависимость друг от друга. Таким образом, если мы обучим линейную регрессию заново после умножения признаков на обратимую матрицу, то мы получим те же самые веса, что и до этого.\n",
    "\n",
    "Если 𝑋 — матрица признаков (нулевой столбец состоит из единиц) умножить на обратимую матрицу 𝑃, то новый вектор весов линейной регрессии будет вычислен по формуле:\n",
    "\n",
    "$\n",
    "((X⋅A)⋅(B⋅(P−1)))^T((X⋅A)⋅(B⋅(P−1)))^{-1}((X⋅A)⋅(B⋅(P−1)))^T(y)\n",
    "$\n",
    "\n",
    "Так как матрица 𝑃 обратима, то её можно разложить на произведение матриц 𝐴 и 𝐵 таких, что 𝐴⋅𝐵=𝐵⋅𝐴=𝐼. Таким образом, качество линейной регрессии не изменится"
   ]
  },
  {
   "cell_type": "markdown",
   "metadata": {},
   "source": [
    "Для начала заметим, что если:\n",
    "$$\n",
    "XP = XP⋅E\n",
    "$$\n",
    "где E - единичная матрица\n",
    "то: \n",
    "$$\n",
    "X = X⋅E\n",
    "$$\n",
    "\n",
    "Тогда формула обучения примет вид:\n",
    "\n",
    "$$\n",
    "w = (X^T(X⋅E))^{-1}X^Ty=((X⋅E)^TX)^{-1}(X⋅E)^Ty=(E^TX^TX)^{-1}E^TX^Ty=(X^TX)^{-1}X^Ty\n",
    "$$\n",
    "\n",
    "Теперь заметим, что если мы домножим X на обратимую матрицу P, то получим новую матрицу признаков:\n",
    "$$\n",
    "XP = X⋅P\n",
    "$$\n",
    "\n",
    "Тогда формула обучения для новых признаков примет вид:\n",
    "\n",
    "$$\n",
    "w′=((XP)^TXP)^{-1}(XP)^Ty\n",
    "$$\n",
    "\n",
    "Теперь покажем связь между новыми весами и исходными. Для этого используем следующее свойство транспонирования произведения матриц:\n",
    "\n",
    "$$\n",
    "(XP)^T=P^TX^T\n",
    "$$\n",
    "\n",
    "Подставляем это выражение в формулу для новых весов:\n",
    "\n",
    "$$\n",
    "w′=((XP)^TXP)^{-1}(XP)^Ty=(P^TX^TXP)^{-1}P^TX^Ty=P^{-1}(X^TX)^{-1}(X^Ty)=P^{-1}w\n",
    "$$\n",
    "\n",
    "Таким образом, мы показали связь между новыми весами и исходными.\n",
    "Чтобы проверить, получится ли привести выражение для a′ к a,подставим выражение для новых весов w′ в формулу для новых предсказаний:\n",
    "\n",
    "$$\n",
    "a′=XPw′=XPP^{-1}w=XEw=Xw=a\n",
    "$$\n",
    "\n",
    "Таким образом, мы показали, что качество регрессии не изменится, если не изменятся предсказания."
   ]
  },
  {
   "cell_type": "code",
   "execution_count": 12,
   "metadata": {},
   "outputs": [
    {
     "name": "stdout",
     "output_type": "stream",
     "text": [
      "Матрица P:\n",
      "[[-1.15680149  0.74657526 -0.06065195 -0.65277439]\n",
      " [-0.6837992   0.2823511   0.69765612  1.23081154]\n",
      " [-1.22580463  1.79160144 -0.95438792  1.01498411]\n",
      " [-1.0655749   0.45761818 -0.08981659 -1.0816065 ]]\n"
     ]
    }
   ],
   "source": [
    "features = insurance_df.drop('Страховые выплаты',axis=1)\n",
    "target = insurance_df['Страховые выплаты']\n",
    "\n",
    "X = np.hstack([np.ones((features.shape[0], 1)), features])\n",
    "XT = X.T\n",
    "w = np.linalg.inv(XT.dot(X)).dot(XT).dot(target)\n",
    "\n",
    "P = np.random.normal(size=(features.shape[1], features.shape[1]))\n",
    "print(f'Матрица P:\\n{P}')\n",
    "\n",
    "if np.linalg.det(P) != 0:\n",
    "    features_new = features.dot(P)\n",
    "else:\n",
    "    print('Матрица P необратима')   "
   ]
  },
  {
   "cell_type": "markdown",
   "metadata": {},
   "source": [
    "Перед умножением проверила сгенерированную матрицу на обратимость. "
   ]
  },
  {
   "cell_type": "code",
   "execution_count": 13,
   "metadata": {},
   "outputs": [],
   "source": [
    "X_new = np.hstack([np.ones((features_new.shape[0], 1)), features_new])\n",
    "XT_new = X_new.T\n",
    "w_new = np.linalg.inv(XT_new.dot(X_new)).dot(XT_new).dot(target)"
   ]
  },
  {
   "cell_type": "code",
   "execution_count": 14,
   "metadata": {},
   "outputs": [],
   "source": [
    "y_pred = X.dot(w)\n",
    "y_pred_new = X_new.dot(w_new)"
   ]
  },
  {
   "cell_type": "code",
   "execution_count": 15,
   "metadata": {},
   "outputs": [
    {
     "name": "stdout",
     "output_type": "stream",
     "text": [
      "Качество линейной регрессии на исходных признаках:\n",
      "[ 0.51172715  0.68431581  0.09373365 ... -0.25697046 -0.19099161\n",
      "  0.04904991]\n",
      "\n",
      "Качество линейной регрессии на новых признаках:\n",
      "[ 0.51173152  0.68431712  0.09373587 ... -0.25696959 -0.19098809\n",
      "  0.04905446]\n"
     ]
    }
   ],
   "source": [
    "print(f'Качество линейной регрессии на исходных признаках:\\n{y_pred}')\n",
    "print()\n",
    "print(f'Качество линейной регрессии на новых признаках:\\n{y_pred_new}')"
   ]
  },
  {
   "cell_type": "markdown",
   "metadata": {},
   "source": [
    "## Алгоритм преобразования"
   ]
  },
  {
   "cell_type": "markdown",
   "metadata": {},
   "source": [
    "**Алгоритм**\n",
    "\n",
    "Для защиты данных клиентов страховой компании «Хоть потоп» будем использовать следующий алгоритм:\n",
    "\n",
    "- Создание рандомной матрицы Z размером (n_features, n_features), проверка ее на обратимость.\n",
    "- Умножение матрицы признаков на матрицу Z.\n",
    "\n",
    "Этот метод позволяет изменять данные таким образом, чтобы они оставались полезными для анализа, но не могли быть использованы для идентификации конкретных лиц. Таким образом, этот метод помогает защитить конфиденциальность персональных данных."
   ]
  },
  {
   "cell_type": "markdown",
   "metadata": {},
   "source": [
    "**Обоснование**\n",
    "\n",
    "Этот алгоритм был выбран, потому что он позволяет предсказывать значения целевой переменной на основе нескольких признаков. В данном случае используется матрица признаков X размером (n_samples, n_features), где:\n",
    "\n",
    "- n_samples - количество строчек (клиентов) в таблице \n",
    "- n_features - количество признаков\n",
    "\n",
    "Также создана матрица Z размером (n_features, n_features) и умножили матрицу признаков X на матрицу Z для получения преобразованных данных.\n",
    "\n",
    "Обучение модели линейной регрессии на исходных данных позволило получить предсказания модели на исходных данных и преобразованных данных. Для оценки качества модели использовали метрику R2 для исходных данных и преобразованных данных.\n",
    "\n",
    "Также разделили данные на обучающую и тестовую выборки с помощью функции train_test_split() и обучили модель на обучающих данных. Затем получили предсказания модели на тестовых данных и вычислили метрику R2 для тестовых данных."
   ]
  },
  {
   "cell_type": "code",
   "execution_count": 17,
   "metadata": {},
   "outputs": [],
   "source": [
    "# Создание матрицы признаков X размером (n_samples, n_features)\n",
    "X = features.values\n",
    "\n",
    "# Создание матрицы Z размером (n_features, n_features)\n",
    "Z = np.random.rand(X.shape[1], X.shape[1])\n",
    "\n",
    "# Проверка матрицы Z на обратимость\n",
    "if np.linalg.det(Z) != 0:\n",
    "    # Умножение матрицы признаков X на матрицу Z\n",
    "    X_transformed = np.dot(X,Z)\n",
    "\n",
    "    # Создание модели линейной регрессии и обучение ее на исходных и зашифрованных данных\n",
    "    reg = LinearRegression().fit(X,target)\n",
    "    reg_transformed = LinearRegression().fit(X_transformed,target)    \n",
    "else:\n",
    "    print('Матрица Z необратима')"
   ]
  },
  {
   "cell_type": "markdown",
   "metadata": {},
   "source": [
    "## Проверка алгоритма"
   ]
  },
  {
   "cell_type": "markdown",
   "metadata": {},
   "source": [
    "Качество линейной регрессии не изменилось при изменении размерности данных, потому что линейная регрессия является линейной моделью, которая предполагает линейную зависимость между признаками и целевой переменной. Это означает, что качество модели не зависит от размерности данных, а только от того, насколько хорошо модель соответствует данным.\n",
    "\n",
    "Метрика R2 является мерой соответствия модели данным и показывает, какую долю дисперсии объясняет модель. Если модель хорошо соответствует данным, то метрика R2 будет близка к 1. Если модель плохо соответствует данным, то метрика R2 будет близка к 0."
   ]
  },
  {
   "cell_type": "code",
   "execution_count": 20,
   "metadata": {},
   "outputs": [
    {
     "name": "stdout",
     "output_type": "stream",
     "text": [
      "Метрика R2 для исходных данных:  0.4249455028666801\n",
      "Метрика R2 для преобразованных данных:  0.4249455028666853\n"
     ]
    }
   ],
   "source": [
    "# Получение предсказаний модели на исходных данных и преобразованных данных\n",
    "y_pred = reg.predict(X)\n",
    "y_pred_transformed = reg_transformed.predict(X_transformed)\n",
    "\n",
    "# Вычисление метрики R2 для исходных данных и преобразованных данных\n",
    "r2_score_original = r2_score(target,y_pred)\n",
    "r2_score_transformed = r2_score(target,y_pred_transformed)\n",
    "\n",
    "print(\"Метрика R2 для исходных данных: \", r2_score_original)\n",
    "print(\"Метрика R2 для преобразованных данных: \", r2_score_transformed)"
   ]
  },
  {
   "cell_type": "markdown",
   "metadata": {},
   "source": [
    "**<p style=\"text-align: center;\">Итоговый вывод.</p>**"
   ]
  },
  {
   "cell_type": "markdown",
   "metadata": {},
   "source": [
    "В ходе реализации проекта по защите данных клиентов страховой компании «Хоть потоп» был разработан такой метод преобразования данных, чтобы по ним было сложно восстановить персональную информацию.\n",
    "\n",
    "В ходе работы было проделано:\n",
    "\n",
    "- Загружены и изучены данные.\n",
    "- Качество линейной регрессии не изменилось при умножении признаков на обратимую матрицу.Незначительное различие вызвано особенностями преобразования матриц и чисел с плавающей точкой. В случае домножения матрицы признаков на случайную обратимую матрицу можно обеспечить защиту данных\n",
    "- Создан алгоритм преобразования данных. Запрограммирован этот алгоритм, применив матричные операции. Проверено, что качество линейной регрессии не отличается до и после преобразования, применив метрику R2."
   ]
  },
  {
   "cell_type": "code",
   "execution_count": null,
   "metadata": {},
   "outputs": [],
   "source": []
  }
 ],
 "metadata": {
  "ExecuteTimeLog": [
   {
    "duration": 438,
    "start_time": "2023-08-15T12:05:21.661Z"
   },
   {
    "duration": 87,
    "start_time": "2023-08-15T12:07:42.604Z"
   },
   {
    "duration": 16,
    "start_time": "2023-08-15T12:07:59.254Z"
   },
   {
    "duration": 18,
    "start_time": "2023-08-15T12:25:22.205Z"
   },
   {
    "duration": 8,
    "start_time": "2023-08-15T12:27:53.637Z"
   },
   {
    "duration": 19,
    "start_time": "2023-08-15T12:35:17.445Z"
   },
   {
    "duration": 6,
    "start_time": "2023-08-15T12:35:35.394Z"
   },
   {
    "duration": 5,
    "start_time": "2023-08-15T12:35:56.082Z"
   },
   {
    "duration": 7,
    "start_time": "2023-08-15T12:35:59.882Z"
   },
   {
    "duration": 392,
    "start_time": "2023-08-15T12:36:10.428Z"
   },
   {
    "duration": 28,
    "start_time": "2023-08-15T12:36:10.822Z"
   },
   {
    "duration": 19,
    "start_time": "2023-08-15T12:36:10.852Z"
   },
   {
    "duration": 27,
    "start_time": "2023-08-15T12:36:10.873Z"
   },
   {
    "duration": 34,
    "start_time": "2023-08-15T12:36:10.903Z"
   },
   {
    "duration": 18,
    "start_time": "2023-08-15T12:36:10.939Z"
   },
   {
    "duration": 35,
    "start_time": "2023-08-15T12:36:10.959Z"
   },
   {
    "duration": 24,
    "start_time": "2023-08-15T12:37:08.688Z"
   },
   {
    "duration": 1975,
    "start_time": "2023-08-15T12:38:32.892Z"
   },
   {
    "duration": 3,
    "start_time": "2023-08-15T12:38:57.624Z"
   },
   {
    "duration": 1219,
    "start_time": "2023-08-15T12:39:01.791Z"
   },
   {
    "duration": 757,
    "start_time": "2023-08-15T12:39:31.478Z"
   },
   {
    "duration": 1079,
    "start_time": "2023-08-15T12:39:45.565Z"
   },
   {
    "duration": 10,
    "start_time": "2023-08-15T12:40:56.731Z"
   },
   {
    "duration": 1303,
    "start_time": "2023-08-15T12:43:16.814Z"
   },
   {
    "duration": 29,
    "start_time": "2023-08-15T12:43:18.119Z"
   },
   {
    "duration": 13,
    "start_time": "2023-08-15T12:43:18.150Z"
   },
   {
    "duration": 12,
    "start_time": "2023-08-15T12:43:18.165Z"
   },
   {
    "duration": 8,
    "start_time": "2023-08-15T12:43:18.180Z"
   },
   {
    "duration": 9,
    "start_time": "2023-08-15T12:43:18.189Z"
   },
   {
    "duration": 26,
    "start_time": "2023-08-15T12:43:18.199Z"
   },
   {
    "duration": 1107,
    "start_time": "2023-08-15T12:43:18.227Z"
   },
   {
    "duration": 8,
    "start_time": "2023-08-15T12:43:19.335Z"
   },
   {
    "duration": 407,
    "start_time": "2023-08-15T12:43:19.344Z"
   },
   {
    "duration": 4,
    "start_time": "2023-08-15T13:48:10.074Z"
   },
   {
    "duration": 1482,
    "start_time": "2023-08-16T07:31:53.836Z"
   },
   {
    "duration": 78,
    "start_time": "2023-08-16T07:31:55.321Z"
   },
   {
    "duration": 11,
    "start_time": "2023-08-16T07:31:55.400Z"
   },
   {
    "duration": 11,
    "start_time": "2023-08-16T07:31:55.412Z"
   },
   {
    "duration": 4,
    "start_time": "2023-08-16T07:31:55.425Z"
   },
   {
    "duration": 10,
    "start_time": "2023-08-16T07:31:55.430Z"
   },
   {
    "duration": 22,
    "start_time": "2023-08-16T07:31:55.441Z"
   },
   {
    "duration": 985,
    "start_time": "2023-08-16T07:31:55.464Z"
   },
   {
    "duration": 6,
    "start_time": "2023-08-16T07:31:56.450Z"
   },
   {
    "duration": 414,
    "start_time": "2023-08-16T07:31:56.458Z"
   },
   {
    "duration": 27,
    "start_time": "2023-08-16T07:31:56.874Z"
   },
   {
    "duration": 4,
    "start_time": "2023-08-16T07:33:50.505Z"
   },
   {
    "duration": 6,
    "start_time": "2023-08-16T07:38:01.348Z"
   },
   {
    "duration": 4,
    "start_time": "2023-08-16T07:38:39.749Z"
   },
   {
    "duration": 4,
    "start_time": "2023-08-16T07:38:54.168Z"
   },
   {
    "duration": 7,
    "start_time": "2023-08-16T07:42:50.264Z"
   },
   {
    "duration": 1461,
    "start_time": "2023-08-16T07:44:19.163Z"
   },
   {
    "duration": 32,
    "start_time": "2023-08-16T07:44:20.626Z"
   },
   {
    "duration": 12,
    "start_time": "2023-08-16T07:44:20.660Z"
   },
   {
    "duration": 19,
    "start_time": "2023-08-16T07:44:20.675Z"
   },
   {
    "duration": 14,
    "start_time": "2023-08-16T07:44:20.696Z"
   },
   {
    "duration": 16,
    "start_time": "2023-08-16T07:44:20.712Z"
   },
   {
    "duration": 29,
    "start_time": "2023-08-16T07:44:20.730Z"
   },
   {
    "duration": 1027,
    "start_time": "2023-08-16T07:44:20.760Z"
   },
   {
    "duration": 15,
    "start_time": "2023-08-16T07:44:21.789Z"
   },
   {
    "duration": 369,
    "start_time": "2023-08-16T07:44:21.807Z"
   },
   {
    "duration": 24,
    "start_time": "2023-08-16T07:44:22.178Z"
   },
   {
    "duration": 96,
    "start_time": "2023-08-16T07:44:22.205Z"
   },
   {
    "duration": 11,
    "start_time": "2023-08-16T07:44:22.303Z"
   },
   {
    "duration": 101,
    "start_time": "2023-08-16T07:44:22.400Z"
   },
   {
    "duration": 5,
    "start_time": "2023-08-16T08:19:28.923Z"
   },
   {
    "duration": 9,
    "start_time": "2023-08-16T08:35:06.999Z"
   },
   {
    "duration": 114,
    "start_time": "2023-08-16T08:43:39.187Z"
   },
   {
    "duration": 3,
    "start_time": "2023-08-16T08:45:53.841Z"
   },
   {
    "duration": 6,
    "start_time": "2023-08-16T08:46:00.016Z"
   },
   {
    "duration": 11,
    "start_time": "2023-08-16T08:49:36.106Z"
   },
   {
    "duration": 1554,
    "start_time": "2023-08-16T08:50:36.937Z"
   },
   {
    "duration": 30,
    "start_time": "2023-08-16T08:50:38.493Z"
   },
   {
    "duration": 11,
    "start_time": "2023-08-16T08:50:38.524Z"
   },
   {
    "duration": 42,
    "start_time": "2023-08-16T08:50:38.537Z"
   },
   {
    "duration": 18,
    "start_time": "2023-08-16T08:50:38.581Z"
   },
   {
    "duration": 24,
    "start_time": "2023-08-16T08:50:38.600Z"
   },
   {
    "duration": 42,
    "start_time": "2023-08-16T08:50:38.625Z"
   },
   {
    "duration": 937,
    "start_time": "2023-08-16T08:50:38.668Z"
   },
   {
    "duration": 7,
    "start_time": "2023-08-16T08:50:39.606Z"
   },
   {
    "duration": 342,
    "start_time": "2023-08-16T08:50:39.614Z"
   },
   {
    "duration": 7,
    "start_time": "2023-08-16T08:50:39.957Z"
   },
   {
    "duration": 35,
    "start_time": "2023-08-16T08:50:39.965Z"
   },
   {
    "duration": 98,
    "start_time": "2023-08-16T08:50:40.002Z"
   },
   {
    "duration": 107,
    "start_time": "2023-08-16T08:50:40.103Z"
   },
   {
    "duration": 9,
    "start_time": "2023-08-16T08:50:40.300Z"
   },
   {
    "duration": 11,
    "start_time": "2023-08-16T08:50:40.310Z"
   },
   {
    "duration": 181,
    "start_time": "2023-08-16T08:50:40.322Z"
   },
   {
    "duration": 8,
    "start_time": "2023-08-16T08:58:44.884Z"
   },
   {
    "duration": 1341,
    "start_time": "2023-08-16T08:59:26.771Z"
   },
   {
    "duration": 31,
    "start_time": "2023-08-16T08:59:28.115Z"
   },
   {
    "duration": 39,
    "start_time": "2023-08-16T08:59:28.148Z"
   },
   {
    "duration": 32,
    "start_time": "2023-08-16T08:59:28.188Z"
   },
   {
    "duration": 23,
    "start_time": "2023-08-16T08:59:28.222Z"
   },
   {
    "duration": 23,
    "start_time": "2023-08-16T08:59:28.246Z"
   },
   {
    "duration": 25,
    "start_time": "2023-08-16T08:59:28.270Z"
   },
   {
    "duration": 899,
    "start_time": "2023-08-16T08:59:28.297Z"
   },
   {
    "duration": 6,
    "start_time": "2023-08-16T08:59:29.198Z"
   },
   {
    "duration": 344,
    "start_time": "2023-08-16T08:59:29.206Z"
   },
   {
    "duration": 7,
    "start_time": "2023-08-16T08:59:29.552Z"
   },
   {
    "duration": 4,
    "start_time": "2023-08-16T08:59:29.600Z"
   },
   {
    "duration": 95,
    "start_time": "2023-08-16T08:59:29.606Z"
   },
   {
    "duration": 99,
    "start_time": "2023-08-16T08:59:29.704Z"
   },
   {
    "duration": 107,
    "start_time": "2023-08-16T08:59:29.805Z"
   },
   {
    "duration": 229,
    "start_time": "2023-08-16T08:59:29.913Z"
   },
   {
    "duration": 88,
    "start_time": "2023-08-16T08:59:30.144Z"
   },
   {
    "duration": 1343,
    "start_time": "2023-08-16T09:39:06.599Z"
   },
   {
    "duration": 31,
    "start_time": "2023-08-16T09:39:07.944Z"
   },
   {
    "duration": 13,
    "start_time": "2023-08-16T09:39:07.977Z"
   },
   {
    "duration": 17,
    "start_time": "2023-08-16T09:39:07.992Z"
   },
   {
    "duration": 10,
    "start_time": "2023-08-16T09:39:08.012Z"
   },
   {
    "duration": 8,
    "start_time": "2023-08-16T09:39:08.023Z"
   },
   {
    "duration": 39,
    "start_time": "2023-08-16T09:39:08.032Z"
   },
   {
    "duration": 942,
    "start_time": "2023-08-16T09:39:08.072Z"
   },
   {
    "duration": 7,
    "start_time": "2023-08-16T09:39:09.015Z"
   },
   {
    "duration": 340,
    "start_time": "2023-08-16T09:39:09.024Z"
   },
   {
    "duration": 40,
    "start_time": "2023-08-16T09:39:09.366Z"
   },
   {
    "duration": 4,
    "start_time": "2023-08-16T09:39:09.408Z"
   },
   {
    "duration": 188,
    "start_time": "2023-08-16T09:39:09.414Z"
   },
   {
    "duration": 5,
    "start_time": "2023-08-16T09:39:09.609Z"
   },
   {
    "duration": 11,
    "start_time": "2023-08-16T09:39:09.701Z"
   },
   {
    "duration": 101,
    "start_time": "2023-08-16T09:39:09.799Z"
   },
   {
    "duration": 8,
    "start_time": "2023-08-16T09:39:09.902Z"
   },
   {
    "duration": 11,
    "start_time": "2023-08-16T09:39:09.911Z"
   },
   {
    "duration": 10,
    "start_time": "2023-08-16T09:39:09.923Z"
   },
   {
    "duration": 1491,
    "start_time": "2023-08-16T09:39:38.504Z"
   },
   {
    "duration": 31,
    "start_time": "2023-08-16T09:39:39.997Z"
   },
   {
    "duration": 12,
    "start_time": "2023-08-16T09:39:40.029Z"
   },
   {
    "duration": 48,
    "start_time": "2023-08-16T09:39:40.043Z"
   },
   {
    "duration": 22,
    "start_time": "2023-08-16T09:39:40.094Z"
   },
   {
    "duration": 28,
    "start_time": "2023-08-16T09:39:40.118Z"
   },
   {
    "duration": 36,
    "start_time": "2023-08-16T09:39:40.147Z"
   },
   {
    "duration": 910,
    "start_time": "2023-08-16T09:39:40.184Z"
   },
   {
    "duration": 8,
    "start_time": "2023-08-16T09:39:41.096Z"
   },
   {
    "duration": 338,
    "start_time": "2023-08-16T09:39:41.105Z"
   },
   {
    "duration": 7,
    "start_time": "2023-08-16T09:39:41.445Z"
   },
   {
    "duration": 48,
    "start_time": "2023-08-16T09:39:41.454Z"
   },
   {
    "duration": 105,
    "start_time": "2023-08-16T09:39:41.504Z"
   },
   {
    "duration": 197,
    "start_time": "2023-08-16T09:39:41.613Z"
   },
   {
    "duration": 20,
    "start_time": "2023-08-16T09:39:41.812Z"
   },
   {
    "duration": 167,
    "start_time": "2023-08-16T09:39:41.833Z"
   },
   {
    "duration": 8,
    "start_time": "2023-08-16T09:39:42.002Z"
   },
   {
    "duration": 1529,
    "start_time": "2023-08-16T10:03:00.584Z"
   },
   {
    "duration": 32,
    "start_time": "2023-08-16T10:03:02.122Z"
   },
   {
    "duration": 18,
    "start_time": "2023-08-16T10:03:02.155Z"
   },
   {
    "duration": 57,
    "start_time": "2023-08-16T10:03:02.174Z"
   },
   {
    "duration": 33,
    "start_time": "2023-08-16T10:03:02.234Z"
   },
   {
    "duration": 48,
    "start_time": "2023-08-16T10:03:02.269Z"
   },
   {
    "duration": 53,
    "start_time": "2023-08-16T10:03:02.318Z"
   },
   {
    "duration": 1019,
    "start_time": "2023-08-16T10:03:02.372Z"
   },
   {
    "duration": 28,
    "start_time": "2023-08-16T10:03:03.393Z"
   },
   {
    "duration": 348,
    "start_time": "2023-08-16T10:03:03.424Z"
   },
   {
    "duration": 35,
    "start_time": "2023-08-16T10:03:03.774Z"
   },
   {
    "duration": 103,
    "start_time": "2023-08-16T10:03:03.811Z"
   },
   {
    "duration": 108,
    "start_time": "2023-08-16T10:03:03.916Z"
   },
   {
    "duration": 77,
    "start_time": "2023-08-16T10:03:04.034Z"
   },
   {
    "duration": 117,
    "start_time": "2023-08-16T10:03:04.118Z"
   },
   {
    "duration": 200,
    "start_time": "2023-08-16T10:03:04.240Z"
   },
   {
    "duration": 105,
    "start_time": "2023-08-16T10:03:04.442Z"
   },
   {
    "duration": 1406,
    "start_time": "2023-08-16T10:07:59.120Z"
   },
   {
    "duration": 31,
    "start_time": "2023-08-16T10:08:00.528Z"
   },
   {
    "duration": 30,
    "start_time": "2023-08-16T10:08:00.560Z"
   },
   {
    "duration": 45,
    "start_time": "2023-08-16T10:08:00.591Z"
   },
   {
    "duration": 24,
    "start_time": "2023-08-16T10:08:00.638Z"
   },
   {
    "duration": 29,
    "start_time": "2023-08-16T10:08:00.664Z"
   },
   {
    "duration": 54,
    "start_time": "2023-08-16T10:08:00.694Z"
   },
   {
    "duration": 1045,
    "start_time": "2023-08-16T10:08:00.749Z"
   },
   {
    "duration": 9,
    "start_time": "2023-08-16T10:08:01.796Z"
   },
   {
    "duration": 441,
    "start_time": "2023-08-16T10:08:01.807Z"
   },
   {
    "duration": 8,
    "start_time": "2023-08-16T10:08:02.250Z"
   },
   {
    "duration": 142,
    "start_time": "2023-08-16T10:08:02.260Z"
   },
   {
    "duration": 214,
    "start_time": "2023-08-16T10:08:02.403Z"
   },
   {
    "duration": 202,
    "start_time": "2023-08-16T10:08:02.620Z"
   },
   {
    "duration": 24,
    "start_time": "2023-08-16T10:08:02.823Z"
   },
   {
    "duration": 128,
    "start_time": "2023-08-16T10:08:02.899Z"
   },
   {
    "duration": 33,
    "start_time": "2023-08-16T10:08:03.029Z"
   },
   {
    "duration": 1341,
    "start_time": "2023-08-16T10:09:28.156Z"
   },
   {
    "duration": 41,
    "start_time": "2023-08-16T10:09:29.499Z"
   },
   {
    "duration": 14,
    "start_time": "2023-08-16T10:09:29.542Z"
   },
   {
    "duration": 17,
    "start_time": "2023-08-16T10:09:29.559Z"
   },
   {
    "duration": 4,
    "start_time": "2023-08-16T10:09:29.578Z"
   },
   {
    "duration": 13,
    "start_time": "2023-08-16T10:09:29.583Z"
   },
   {
    "duration": 37,
    "start_time": "2023-08-16T10:09:29.598Z"
   },
   {
    "duration": 915,
    "start_time": "2023-08-16T10:09:29.636Z"
   },
   {
    "duration": 6,
    "start_time": "2023-08-16T10:09:30.552Z"
   },
   {
    "duration": 383,
    "start_time": "2023-08-16T10:09:30.560Z"
   },
   {
    "duration": 9,
    "start_time": "2023-08-16T10:09:30.945Z"
   },
   {
    "duration": 161,
    "start_time": "2023-08-16T10:09:30.956Z"
   },
   {
    "duration": 188,
    "start_time": "2023-08-16T10:09:31.125Z"
   },
   {
    "duration": 86,
    "start_time": "2023-08-16T10:09:31.315Z"
   },
   {
    "duration": 132,
    "start_time": "2023-08-16T10:09:31.403Z"
   },
   {
    "duration": 191,
    "start_time": "2023-08-16T10:09:31.536Z"
   },
   {
    "duration": 20,
    "start_time": "2023-08-16T10:09:31.729Z"
   },
   {
    "duration": 2699,
    "start_time": "2023-08-16T10:29:38.494Z"
   },
   {
    "duration": 35,
    "start_time": "2023-08-16T10:29:41.196Z"
   },
   {
    "duration": 15,
    "start_time": "2023-08-16T10:29:41.233Z"
   },
   {
    "duration": 16,
    "start_time": "2023-08-16T10:29:41.250Z"
   },
   {
    "duration": 5,
    "start_time": "2023-08-16T10:29:41.268Z"
   },
   {
    "duration": 6,
    "start_time": "2023-08-16T10:29:41.275Z"
   },
   {
    "duration": 29,
    "start_time": "2023-08-16T10:29:41.284Z"
   },
   {
    "duration": 1191,
    "start_time": "2023-08-16T10:29:41.314Z"
   },
   {
    "duration": 8,
    "start_time": "2023-08-16T10:29:42.507Z"
   },
   {
    "duration": 447,
    "start_time": "2023-08-16T10:29:42.518Z"
   },
   {
    "duration": 10,
    "start_time": "2023-08-16T10:29:42.966Z"
   },
   {
    "duration": 81,
    "start_time": "2023-08-16T10:29:42.978Z"
   },
   {
    "duration": 96,
    "start_time": "2023-08-16T10:29:43.061Z"
   },
   {
    "duration": 113,
    "start_time": "2023-08-16T10:29:43.160Z"
   },
   {
    "duration": 83,
    "start_time": "2023-08-16T10:29:43.275Z"
   },
   {
    "duration": 101,
    "start_time": "2023-08-16T10:29:43.360Z"
   },
   {
    "duration": 73,
    "start_time": "2023-08-16T10:29:43.463Z"
   },
   {
    "duration": 1585,
    "start_time": "2023-08-18T17:07:37.357Z"
   },
   {
    "duration": 124,
    "start_time": "2023-08-18T17:07:38.944Z"
   },
   {
    "duration": 22,
    "start_time": "2023-08-18T17:07:39.070Z"
   },
   {
    "duration": 11,
    "start_time": "2023-08-18T17:07:39.094Z"
   },
   {
    "duration": 7,
    "start_time": "2023-08-18T17:07:39.107Z"
   },
   {
    "duration": 15,
    "start_time": "2023-08-18T17:07:39.116Z"
   },
   {
    "duration": 31,
    "start_time": "2023-08-18T17:07:39.132Z"
   },
   {
    "duration": 1080,
    "start_time": "2023-08-18T17:07:39.164Z"
   },
   {
    "duration": 3,
    "start_time": "2023-08-18T17:07:40.247Z"
   },
   {
    "duration": 40,
    "start_time": "2023-08-18T17:07:40.251Z"
   },
   {
    "duration": 22,
    "start_time": "2023-08-18T17:07:40.293Z"
   },
   {
    "duration": 13,
    "start_time": "2023-08-18T17:07:55.008Z"
   },
   {
    "duration": 1535,
    "start_time": "2023-08-18T17:08:30.343Z"
   },
   {
    "duration": 31,
    "start_time": "2023-08-18T17:08:31.880Z"
   },
   {
    "duration": 12,
    "start_time": "2023-08-18T17:08:31.913Z"
   },
   {
    "duration": 38,
    "start_time": "2023-08-18T17:08:31.926Z"
   },
   {
    "duration": 39,
    "start_time": "2023-08-18T17:08:31.966Z"
   },
   {
    "duration": 20,
    "start_time": "2023-08-18T17:08:32.007Z"
   },
   {
    "duration": 52,
    "start_time": "2023-08-18T17:08:32.028Z"
   },
   {
    "duration": 1110,
    "start_time": "2023-08-18T17:08:32.082Z"
   },
   {
    "duration": 6,
    "start_time": "2023-08-18T17:08:33.193Z"
   },
   {
    "duration": 8,
    "start_time": "2023-08-18T17:08:33.201Z"
   },
   {
    "duration": 23,
    "start_time": "2023-08-18T17:08:33.211Z"
   },
   {
    "duration": 9,
    "start_time": "2023-08-18T17:08:36.885Z"
   },
   {
    "duration": 1549,
    "start_time": "2023-08-18T17:10:01.995Z"
   },
   {
    "duration": 34,
    "start_time": "2023-08-18T17:10:03.547Z"
   },
   {
    "duration": 15,
    "start_time": "2023-08-18T17:10:03.583Z"
   },
   {
    "duration": 11,
    "start_time": "2023-08-18T17:10:03.600Z"
   },
   {
    "duration": 23,
    "start_time": "2023-08-18T17:10:03.613Z"
   },
   {
    "duration": 14,
    "start_time": "2023-08-18T17:10:03.638Z"
   },
   {
    "duration": 35,
    "start_time": "2023-08-18T17:10:03.653Z"
   },
   {
    "duration": 1158,
    "start_time": "2023-08-18T17:10:03.690Z"
   },
   {
    "duration": 2,
    "start_time": "2023-08-18T17:10:04.850Z"
   },
   {
    "duration": 5,
    "start_time": "2023-08-18T17:10:04.854Z"
   },
   {
    "duration": 19,
    "start_time": "2023-08-18T17:10:04.860Z"
   },
   {
    "duration": 12,
    "start_time": "2023-08-18T17:10:04.880Z"
   },
   {
    "duration": 82,
    "start_time": "2023-08-18T17:10:04.894Z"
   },
   {
    "duration": 104,
    "start_time": "2023-08-18T17:10:04.980Z"
   },
   {
    "duration": 10,
    "start_time": "2023-08-18T17:10:08.112Z"
   },
   {
    "duration": 10,
    "start_time": "2023-08-18T17:36:30.757Z"
   },
   {
    "duration": 1420,
    "start_time": "2023-08-18T17:39:39.163Z"
   },
   {
    "duration": 30,
    "start_time": "2023-08-18T17:39:40.585Z"
   },
   {
    "duration": 12,
    "start_time": "2023-08-18T17:39:40.617Z"
   },
   {
    "duration": 9,
    "start_time": "2023-08-18T17:39:40.631Z"
   },
   {
    "duration": 2,
    "start_time": "2023-08-18T17:39:40.643Z"
   },
   {
    "duration": 7,
    "start_time": "2023-08-18T17:39:40.647Z"
   },
   {
    "duration": 28,
    "start_time": "2023-08-18T17:39:40.655Z"
   },
   {
    "duration": 1054,
    "start_time": "2023-08-18T17:39:40.684Z"
   },
   {
    "duration": 3,
    "start_time": "2023-08-18T17:39:41.739Z"
   },
   {
    "duration": 9,
    "start_time": "2023-08-18T17:39:41.743Z"
   },
   {
    "duration": 18,
    "start_time": "2023-08-18T17:39:41.753Z"
   },
   {
    "duration": 10,
    "start_time": "2023-08-18T17:39:41.772Z"
   },
   {
    "duration": 8,
    "start_time": "2023-08-18T17:39:41.785Z"
   },
   {
    "duration": 178,
    "start_time": "2023-08-18T17:39:41.796Z"
   },
   {
    "duration": 8,
    "start_time": "2023-08-18T17:39:41.976Z"
   },
   {
    "duration": 95,
    "start_time": "2023-08-18T17:39:41.986Z"
   },
   {
    "duration": 35,
    "start_time": "2023-08-18T17:39:46.441Z"
   },
   {
    "duration": 1378,
    "start_time": "2023-08-18T18:41:34.263Z"
   },
   {
    "duration": 31,
    "start_time": "2023-08-18T18:41:35.643Z"
   },
   {
    "duration": 12,
    "start_time": "2023-08-18T18:41:35.676Z"
   },
   {
    "duration": 25,
    "start_time": "2023-08-18T18:41:35.691Z"
   },
   {
    "duration": 4,
    "start_time": "2023-08-18T18:41:35.718Z"
   },
   {
    "duration": 13,
    "start_time": "2023-08-18T18:41:35.724Z"
   },
   {
    "duration": 31,
    "start_time": "2023-08-18T18:41:35.739Z"
   },
   {
    "duration": 1084,
    "start_time": "2023-08-18T18:41:35.772Z"
   },
   {
    "duration": 2,
    "start_time": "2023-08-18T18:41:36.858Z"
   },
   {
    "duration": 17,
    "start_time": "2023-08-18T18:41:36.863Z"
   },
   {
    "duration": 5,
    "start_time": "2023-08-18T18:41:36.882Z"
   },
   {
    "duration": 10,
    "start_time": "2023-08-18T18:41:36.888Z"
   },
   {
    "duration": 75,
    "start_time": "2023-08-18T18:41:36.904Z"
   },
   {
    "duration": 106,
    "start_time": "2023-08-18T18:41:36.981Z"
   },
   {
    "duration": 91,
    "start_time": "2023-08-18T18:41:37.089Z"
   },
   {
    "duration": 92,
    "start_time": "2023-08-18T18:41:37.182Z"
   },
   {
    "duration": 12,
    "start_time": "2023-08-18T18:41:47.337Z"
   },
   {
    "duration": 1507,
    "start_time": "2023-08-18T18:48:50.203Z"
   },
   {
    "duration": 32,
    "start_time": "2023-08-18T18:48:51.712Z"
   },
   {
    "duration": 13,
    "start_time": "2023-08-18T18:48:51.746Z"
   },
   {
    "duration": 51,
    "start_time": "2023-08-18T18:48:51.760Z"
   },
   {
    "duration": 2,
    "start_time": "2023-08-18T18:48:51.813Z"
   },
   {
    "duration": 14,
    "start_time": "2023-08-18T18:48:51.816Z"
   },
   {
    "duration": 32,
    "start_time": "2023-08-18T18:48:51.831Z"
   },
   {
    "duration": 1011,
    "start_time": "2023-08-18T18:48:51.865Z"
   },
   {
    "duration": 2,
    "start_time": "2023-08-18T18:48:52.878Z"
   },
   {
    "duration": 10,
    "start_time": "2023-08-18T18:48:52.882Z"
   },
   {
    "duration": 9,
    "start_time": "2023-08-18T18:48:52.893Z"
   },
   {
    "duration": 15,
    "start_time": "2023-08-18T18:48:52.904Z"
   },
   {
    "duration": 58,
    "start_time": "2023-08-18T18:48:52.922Z"
   },
   {
    "duration": 94,
    "start_time": "2023-08-18T18:48:52.985Z"
   },
   {
    "duration": 5,
    "start_time": "2023-08-18T18:48:53.082Z"
   },
   {
    "duration": 9,
    "start_time": "2023-08-18T18:48:53.175Z"
   },
   {
    "duration": 11,
    "start_time": "2023-08-18T18:48:53.186Z"
   },
   {
    "duration": 3,
    "start_time": "2023-08-18T18:48:53.199Z"
   },
   {
    "duration": 6,
    "start_time": "2023-08-18T18:48:53.204Z"
   },
   {
    "duration": 80,
    "start_time": "2023-08-18T18:48:53.211Z"
   },
   {
    "duration": 11,
    "start_time": "2023-08-18T18:49:37.396Z"
   },
   {
    "duration": 1497,
    "start_time": "2023-08-18T18:49:49.504Z"
   },
   {
    "duration": 33,
    "start_time": "2023-08-18T18:49:51.003Z"
   },
   {
    "duration": 25,
    "start_time": "2023-08-18T18:49:51.037Z"
   },
   {
    "duration": 32,
    "start_time": "2023-08-18T18:49:51.064Z"
   },
   {
    "duration": 30,
    "start_time": "2023-08-18T18:49:51.098Z"
   },
   {
    "duration": 27,
    "start_time": "2023-08-18T18:49:51.130Z"
   },
   {
    "duration": 46,
    "start_time": "2023-08-18T18:49:51.158Z"
   },
   {
    "duration": 1065,
    "start_time": "2023-08-18T18:49:51.206Z"
   },
   {
    "duration": 1,
    "start_time": "2023-08-18T18:49:52.274Z"
   },
   {
    "duration": 11,
    "start_time": "2023-08-18T18:49:52.277Z"
   },
   {
    "duration": 26,
    "start_time": "2023-08-18T18:49:52.290Z"
   },
   {
    "duration": 44,
    "start_time": "2023-08-18T18:49:52.318Z"
   },
   {
    "duration": 114,
    "start_time": "2023-08-18T18:49:52.364Z"
   },
   {
    "duration": 205,
    "start_time": "2023-08-18T18:49:52.481Z"
   },
   {
    "duration": 88,
    "start_time": "2023-08-18T18:49:52.688Z"
   },
   {
    "duration": 96,
    "start_time": "2023-08-18T18:49:52.779Z"
   },
   {
    "duration": 26,
    "start_time": "2023-08-18T18:49:52.878Z"
   },
   {
    "duration": 21,
    "start_time": "2023-08-18T18:49:52.906Z"
   },
   {
    "duration": 9,
    "start_time": "2023-08-18T18:49:52.929Z"
   },
   {
    "duration": 18,
    "start_time": "2023-08-18T18:49:52.939Z"
   },
   {
    "duration": 7,
    "start_time": "2023-08-18T18:50:30.829Z"
   },
   {
    "duration": 1351,
    "start_time": "2023-08-18T18:50:41.655Z"
   },
   {
    "duration": 31,
    "start_time": "2023-08-18T18:50:43.008Z"
   },
   {
    "duration": 12,
    "start_time": "2023-08-18T18:50:43.040Z"
   },
   {
    "duration": 24,
    "start_time": "2023-08-18T18:50:43.053Z"
   },
   {
    "duration": 14,
    "start_time": "2023-08-18T18:50:43.079Z"
   },
   {
    "duration": 7,
    "start_time": "2023-08-18T18:50:43.094Z"
   },
   {
    "duration": 24,
    "start_time": "2023-08-18T18:50:43.102Z"
   },
   {
    "duration": 1063,
    "start_time": "2023-08-18T18:50:43.128Z"
   },
   {
    "duration": 3,
    "start_time": "2023-08-18T18:50:44.193Z"
   },
   {
    "duration": 25,
    "start_time": "2023-08-18T18:50:44.198Z"
   },
   {
    "duration": 7,
    "start_time": "2023-08-18T18:50:44.225Z"
   },
   {
    "duration": 15,
    "start_time": "2023-08-18T18:50:44.233Z"
   },
   {
    "duration": 29,
    "start_time": "2023-08-18T18:50:44.250Z"
   },
   {
    "duration": 193,
    "start_time": "2023-08-18T18:50:44.281Z"
   },
   {
    "duration": 91,
    "start_time": "2023-08-18T18:50:44.485Z"
   },
   {
    "duration": 3,
    "start_time": "2023-08-18T18:50:44.578Z"
   },
   {
    "duration": 9,
    "start_time": "2023-08-18T18:50:44.583Z"
   },
   {
    "duration": 2,
    "start_time": "2023-08-18T18:50:44.594Z"
   },
   {
    "duration": 10,
    "start_time": "2023-08-18T18:50:44.598Z"
   },
   {
    "duration": 71,
    "start_time": "2023-08-18T18:50:44.610Z"
   },
   {
    "duration": 1329,
    "start_time": "2023-08-18T18:52:51.024Z"
   },
   {
    "duration": 32,
    "start_time": "2023-08-18T18:52:52.355Z"
   },
   {
    "duration": 14,
    "start_time": "2023-08-18T18:52:52.388Z"
   },
   {
    "duration": 15,
    "start_time": "2023-08-18T18:52:52.403Z"
   },
   {
    "duration": 3,
    "start_time": "2023-08-18T18:52:52.419Z"
   },
   {
    "duration": 15,
    "start_time": "2023-08-18T18:52:52.423Z"
   },
   {
    "duration": 24,
    "start_time": "2023-08-18T18:52:52.439Z"
   },
   {
    "duration": 985,
    "start_time": "2023-08-18T18:52:52.465Z"
   },
   {
    "duration": 2,
    "start_time": "2023-08-18T18:52:53.451Z"
   },
   {
    "duration": 5,
    "start_time": "2023-08-18T18:52:53.455Z"
   },
   {
    "duration": 17,
    "start_time": "2023-08-18T18:52:53.462Z"
   },
   {
    "duration": 19,
    "start_time": "2023-08-18T18:52:53.481Z"
   },
   {
    "duration": 8,
    "start_time": "2023-08-18T18:52:53.502Z"
   },
   {
    "duration": 78,
    "start_time": "2023-08-18T18:52:53.511Z"
   },
   {
    "duration": 7,
    "start_time": "2023-08-18T18:52:53.591Z"
   },
   {
    "duration": 89,
    "start_time": "2023-08-18T18:52:53.687Z"
   },
   {
    "duration": 11,
    "start_time": "2023-08-18T18:52:53.778Z"
   },
   {
    "duration": 2,
    "start_time": "2023-08-18T18:52:53.791Z"
   },
   {
    "duration": 6,
    "start_time": "2023-08-18T18:52:53.795Z"
   },
   {
    "duration": 16,
    "start_time": "2023-08-18T18:52:53.803Z"
   },
   {
    "duration": 2231,
    "start_time": "2023-08-19T12:07:56.400Z"
   },
   {
    "duration": 111,
    "start_time": "2023-08-19T12:07:58.633Z"
   },
   {
    "duration": 11,
    "start_time": "2023-08-19T12:07:58.746Z"
   },
   {
    "duration": 14,
    "start_time": "2023-08-19T12:07:58.759Z"
   },
   {
    "duration": 13,
    "start_time": "2023-08-19T12:07:58.775Z"
   },
   {
    "duration": 5,
    "start_time": "2023-08-19T12:07:58.789Z"
   },
   {
    "duration": 27,
    "start_time": "2023-08-19T12:07:58.796Z"
   },
   {
    "duration": 932,
    "start_time": "2023-08-19T12:07:58.824Z"
   },
   {
    "duration": 2,
    "start_time": "2023-08-19T12:07:59.757Z"
   },
   {
    "duration": 4,
    "start_time": "2023-08-19T12:07:59.761Z"
   },
   {
    "duration": 4,
    "start_time": "2023-08-19T12:07:59.767Z"
   },
   {
    "duration": 11,
    "start_time": "2023-08-19T12:07:59.772Z"
   },
   {
    "duration": 67,
    "start_time": "2023-08-19T12:07:59.785Z"
   },
   {
    "duration": 4,
    "start_time": "2023-08-19T12:07:59.854Z"
   },
   {
    "duration": 6,
    "start_time": "2023-08-19T12:07:59.951Z"
   },
   {
    "duration": 92,
    "start_time": "2023-08-19T12:07:59.959Z"
   },
   {
    "duration": 15,
    "start_time": "2023-08-19T12:08:00.052Z"
   },
   {
    "duration": 17,
    "start_time": "2023-08-19T12:08:00.069Z"
   },
   {
    "duration": 27,
    "start_time": "2023-08-19T12:08:00.088Z"
   },
   {
    "duration": 19,
    "start_time": "2023-08-19T12:08:00.116Z"
   },
   {
    "duration": 2216,
    "start_time": "2023-08-19T12:58:13.605Z"
   },
   {
    "duration": 31,
    "start_time": "2023-08-19T12:58:15.823Z"
   },
   {
    "duration": 14,
    "start_time": "2023-08-19T12:58:15.856Z"
   },
   {
    "duration": 13,
    "start_time": "2023-08-19T12:58:15.872Z"
   },
   {
    "duration": 3,
    "start_time": "2023-08-19T12:58:15.887Z"
   },
   {
    "duration": 6,
    "start_time": "2023-08-19T12:58:15.891Z"
   },
   {
    "duration": 22,
    "start_time": "2023-08-19T12:58:15.898Z"
   },
   {
    "duration": 1296,
    "start_time": "2023-08-19T12:58:15.922Z"
   },
   {
    "duration": 2,
    "start_time": "2023-08-19T12:58:17.220Z"
   },
   {
    "duration": 3,
    "start_time": "2023-08-19T12:58:17.225Z"
   },
   {
    "duration": 4,
    "start_time": "2023-08-19T12:58:17.230Z"
   },
   {
    "duration": 17,
    "start_time": "2023-08-19T12:58:17.235Z"
   },
   {
    "duration": 4,
    "start_time": "2023-08-19T12:58:17.253Z"
   },
   {
    "duration": 192,
    "start_time": "2023-08-19T12:58:17.258Z"
   },
   {
    "duration": 4,
    "start_time": "2023-08-19T12:58:17.452Z"
   },
   {
    "duration": 7,
    "start_time": "2023-08-19T12:58:17.458Z"
   },
   {
    "duration": 9,
    "start_time": "2023-08-19T12:58:17.466Z"
   },
   {
    "duration": 3,
    "start_time": "2023-08-19T12:58:17.477Z"
   },
   {
    "duration": 4,
    "start_time": "2023-08-19T12:58:17.481Z"
   },
   {
    "duration": 167,
    "start_time": "2023-08-19T12:58:17.486Z"
   }
  ],
  "kernelspec": {
   "display_name": "Python 3 (ipykernel)",
   "language": "python",
   "name": "python3"
  },
  "language_info": {
   "codemirror_mode": {
    "name": "ipython",
    "version": 3
   },
   "file_extension": ".py",
   "mimetype": "text/x-python",
   "name": "python",
   "nbconvert_exporter": "python",
   "pygments_lexer": "ipython3",
   "version": "3.10.12"
  },
  "toc": {
   "base_numbering": 1,
   "nav_menu": {},
   "number_sections": true,
   "sideBar": true,
   "skip_h1_title": true,
   "title_cell": "Содержание",
   "title_sidebar": "Contents",
   "toc_cell": true,
   "toc_position": {},
   "toc_section_display": true,
   "toc_window_display": true
  }
 },
 "nbformat": 4,
 "nbformat_minor": 2
}
